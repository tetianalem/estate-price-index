import pandas as pd
import sqlite3
import numpy as np
import statsmodels.api as sm

# Read data from SQLite database
with sqlite3.connect("ss_com8.db") as con:
    df0 = pd.read_sql_query("SELECT * FROM results", con)

# Currency normalization
df0['Prices'] = df0['CENA'].str.replace(',', '').astype(float)
df0['Prices per week'] = df0['Prices'].where(df0['Currency format'] == '€/ned.', df0['Prices'] * 4)
df0['Prices per day'] = df0['Prices'].where(df0['Currency format'] == '€/dienā', df0['Prices'] * 30)
df0['Prices per month'] = df0['Prices'].where(df0['Currency format'] == '€/mēn.', df0['Prices'])
df0['Prices full'] = df0['Prices'].where(df0['Currency format'] == '€', df0['Prices'])
df0.drop(['CENA'], axis=1, inplace=True)

# Land normalization
df0['Land'] = df0['LAND_M2'].str.extract(r'(\d+)', expand=False).astype(float)
df0['Land'] *= 10000 * df0['LAND_M2'].str.endswith('ha.')
df0.drop(['LAND_M2'], axis=1, inplace=True)

# Premise normalization
df0['Premise'] = df0['PREMISE_M2'].str.extract(r'(\d+)', expand=False).astype(float)
df0['Premise'] *= 10000 * df0['PREMISE_M2'].str.endswith('ha.')
df0.drop(['PREMISE_M2'], axis=1, inplace=True)

# Filtering by area
df0 = df0[(df0['Premise'] >= 10) & (df0['Land'] >= 1000) | ((df0['ESTATE_TYPE'] != 'farms-estates') | (df0['Land'] >= 5))]

# STAVS normalization
stavs_split = df0['STAVS'].str.split('/', expand=True)
df0['Number of rooms'] = stavs_split[0].str.extract(r'(\d+)', expand=False).astype(float)
df0['Floor'] = df0['Number of rooms'].where(df0['ESTATE_TYPE'] == 'offices', stavs_split[0])
df0['Max floor'] = stavs_split[1].where(df0['ESTATE_TYPE'] == 'offices', stavs_split[1])
df0['Number of floors'] = df0['Number of rooms'].where((df0['ESTATE_TYPE'] == 'homes-summer-residences') | (df0['ESTATE_TYPE'] == 'farms-estates'), df0['Number of rooms'])
df0.drop(['STAVS'], axis=1, inplace=True)

# Location normalization
location_split = df0['AD_LINK'].str.split('/', expand=True)
df0['Region'] = location_split[5]
df0['District'] = location_split[6].where(df0['Region'] == 'riga', location_split[7])
df0.drop(['AD_LINK'], axis=1, inplace=True)

# Region adjustment
df0['Region adj'] = df0['Region'].apply(lambda x: 'riga' if x in ['riga', 'riga-region'] else ('cities' if x in ['daugavpils', 'liepaja', 'jelgava', 'jurmala', 'ventspils', 'rezekne'] else 'other'))

# Street normalization
df0['Street'] = df0['LOCATION'].str.split(',').str[0]
df0.drop(['LOCATION'], axis=1, inplace=True)

# Time normalization
df0[['Date', 'Time']] = df0['TIME_STAMP'].str.split(' ', expand=True)
df0['Quarter'] = pd.to_datetime(df0['Date']).dt.quarter.astype(str)
df0.drop(['Time', 'TIME_STAMP'], axis=1, inplace=True)

# House type normalization
df0['HOUSE_TYPE'] = df0['HOUSE_TYPE'].replace({'na': '', '-': ''})

# Renaming Price before discount
df0.rename(columns={'Prices': 'Price before discount'}, inplace=True)


#df=pd.concat([df0,df_city], ignore_index=True)
df=df0

# List of columns to process
columns_to_process = ['Prices', 'Pricepremise', 'Priceland', 'Prices full', 'Prices per day', 'Prices per month']

# Convert columns to numeric and round to 2 decimal places
for column in columns_to_process:
    df[column] = pd.to_numeric(df[column]).round(2)

# Create new ID columns
df['Pr'] = df['Prices'].astype(str)
df['Pr bd'] = df['Price before discount'].astype(str)
df['Pre'] = df['Premise'].astype(str)
df['St'] = df['Street'].astype(str)
df['L'] = df['Land'].astype(str)
df['M'] = pd.to_numeric(df['Month'])

df['ID_0']=df[['Pr bd','Pre','St','L']].apply(lambda x: '_'.join(x), axis=1)
df['Min date']=df.groupby('ID_0')['Date'].transform(min)
df['Max date']=df.groupby('ID_0')['Date'].transform(max)
df[['Date','Min date','Max date']] = df[['Date','Min date','Max date']].apply(pd.to_datetime)
df['Diff'] = (df['Date'] - df['Min date']).dt.days
df['Duration date']=(df['Max date']-df['Min date']).dt.days
df['N']=df['Diff']//90
df['N']=df['N'].astype(str)
df['ID_1']=df[['Pr bd','Pre','St','L','N']].apply(lambda x: '_'.join(x), axis=1)
df.drop_duplicates(subset=['ID_1','N'],keep = 'first',inplace=True)

df['ID_0']=df[['Pr','Pre','St','L']].apply(lambda x: '_'.join(x), axis=1)
df['Min date']=df.groupby('ID_0')['Date'].transform(min)
df['Max date']=df.groupby('ID_0')['Date'].transform(max)
df[['Date','Min date','Max date']] = df[['Date','Min date','Max date']].apply(pd.to_datetime)
df['Diff'] = (df['Date'] - df['Min date']).dt.days
df['Duration date']=(df['Max date']-df['Min date']).dt.days
df['N']=df['Diff']//90
df['N']=df['N'].astype(str)
df['ID_2']=df[['Pr','Pre','St','L','N']].apply(lambda x: '_'.join(x), axis=1)
df.drop_duplicates(subset=['ID_2','N'],keep = 'first',inplace=True)

df = df.drop(['Pr','Pr bd','Pre','St','L','M','N','ID_1','ID_0','Diff'], axis=1)

#Boolean types
def create_boolean_columns(df, column, values):
    for value in values:
        bool_column_name = f"B-{column}-{value}"
        df[bool_column_name] = (df[column] == value).astype(int)

# Define the values for each column
estate_types = ['farms-estates', 'flats', 'homes-summer-residences', 'offices', 'plots-and-lands']
transaction_types = ['hand_over', 'sell']
house_types = ['103.', '104.', '119.', '467.', '602.', 'Čehu pr.', 'Hrušč.', 'Jaun.', 'LT proj.', 'M. ģim.', 'P. kara', 'Priv. m.', 'Renov.', 'Specpr.', 'Staļina']
districts_riga = ['Āgenskalns', 'Boldērāja', 'Centrs', 'CITS', 'Ilģuciems', 'Imanta', 'Jugla', 'Ķengarags', 'Maskavas Forštate', 'Mežaparkse', 'Mežciems', 'Pļavnieki', 'Purvciems', 'Sarkandaugava', 'Teika', 'Vecmīlgrāvis', 'Ziepniekkalns', 'Zolitūde']

# Apply the function to create boolean columns for each category
create_boolean_columns(df, 'ESTATE_TYPE', estate_types)
create_boolean_columns(df, 'TRANSACTION_TYPE', transaction_types)
create_boolean_columns(df, 'HOUSE_TYPE', house_types)

# Create boolean columns for districts in Riga
for district in districts_riga:
    bool_column_name = f"B-District-riga-{district}"
    df[bool_column_name] = ((df['Region adj'] == 'riga') & (df['District'].str.lower() == district.lower())).astype(int)

# Drop the original categorical columns
df.drop(columns=['ESTATE_TYPE', 'TRANSACTION_TYPE', 'HOUSE_TYPE', 'District'], inplace=True)

# Approprate format for variables
df['ID']=df['ID'].astype(str)
cols = ['Prices','Land','Premise','Number of rooms','Floor','Max floor','Number of floors','Year','Month','Day','Quarter','B-ESTATE_TYPE-farms-estates','B-ESTATE_TYPE-flats','B-ESTATE_TYPE-homes-summer-residences','B-ESTATE_TYPE-offices','B-ESTATE_TYPE-plots-and-lands','B-TRANSACTION_TYPE-hand-over','B-TRANSACTION_TYPE-sell','B-HOUSE_TYPE-103.','B-HOUSE_TYPE-104.','B-HOUSE_TYPE-119.','B-HOUSE_TYPE-467.','B-HOUSE_TYPE-602.','B-HOUSE_TYPE-Čehu pr.','B-HOUSE_TYPE-Hrušč.','B-HOUSE_TYPE-Jaun.','B-HOUSE_TYPE-LT proj.','B-HOUSE_TYPE-M. ģim.','B-HOUSE_TYPE-P. kara','B-HOUSE_TYPE-Priv. m.','B-HOUSE_TYPE-Renov.','B-HOUSE_TYPE-Specpr.','B-HOUSE_TYPE-Staļina','B-District-riga-Āgenskalns','B-District-riga-Boldērāja','B-District-riga-Centrs','B-District-riga-CITS','B-District-riga-Ilģuciems','B-District-riga-Imanta','B-District-riga-Jugla','B-District-riga-Ķengarags','B-District-riga-Maskavas Forštate','B-District-riga-Mežaparkse','B-District-riga-Mežciems','B-District-riga-Pļavnieki','B-District-riga-Purvciems','B-District-riga-Sarkandaugava','B-District-riga-Teika','B-District-riga-Vecmīlgrāvis','B-District-riga-Ziepniekkalns','B-District-riga-Zolitūde']
df[cols] = df[cols].apply(pd.to_numeric, errors='coerce', axis=1)
del cols

df['Duration date'] = df['Duration date'].apply(pd.to_numeric)

# Categorize 'Duration date' into bins
df['Duration'] = pd.cut(df['Duration date'], bins=[-float('inf'), 0, 1, 7, 50, 150, float('inf')], labels=['<0', '0', '1', '2-7', '8-50', '>50'])

# Create boolean columns based on 'Duration' categories
for duration_category in ['<0', '0', '1', '2-7', '8-50', '>50']:
    bool_column_name = f"B-Duration-{duration_category.replace('<','neg')}"
    df[bool_column_name] = (df['Duration'] == duration_category).astype(int)

df.drop(columns=['Duration date'], inplace=True)


# Export
conn = sqlite3.connect('database.db')
df.to_sql('df', conn, if_exists='replace', index = False)
     

con = sqlite3.connect("database.db")
dff = pd.read_sql_query("SELECT * from df", con)
print(dff.head()) #for verification
con.close()

def make_regression(dataframe, estate_type, transaction_type, region_type,rent_freq):   
    print("xx"+ estate_type)
    #estate_type = farms, residences, plots, offices, flats, flats2 (with house types)
    #transaction_type = sell, hand_over
    #region_type = riga, riga-region, cities, other
    if estate_type=='farms':
        dataframe=dataframe[dataframe['ESTATE_TYPE']== 'farms-estates']
    elif estate_type=='residences':
        dataframe=dataframe[dataframe['ESTATE_TYPE']== 'homes-summer-residences']
    elif estate_type=='plots':
        dataframe=dataframe[dataframe['ESTATE_TYPE']== 'plots-and-lands']
    elif estate_type=='offices':
        dataframe=dataframe[dataframe['ESTATE_TYPE']== 'offices']
    elif estate_type=='flats' or estate_type=='flats2':
        dataframe=dataframe[dataframe['ESTATE_TYPE']== 'flats']
    else:
        print('Check a name of estate_type')
    
    if transaction_type=='sell' or transaction_type=='hand_over':
        dataframe=dataframe[dataframe['TRANSACTION_TYPE']== transaction_type]
    else:
        print('Check a name of transaction_type')

    if region_type=='riga' or region_type=='riga-region' or region_type=='cities' or region_type=='other':
        dataframe=dataframe[dataframe['Region adj']== region_type]
    else:
        print('Check a name of region_type')    

    if rent_freq=='full':
        dataframe=dataframe[dataframe['Currency format']=='€']
    elif rent_freq=='per month':
        dataframe=dataframe[dataframe['Currency format']=='€/mēn.']
    elif rent_freq=='per week':
        dataframe=dataframe[dataframe['Currency format']=='€/ned.']
    elif rent_freq=='per day':
        dataframe=dataframe[dataframe['Currency format']=='€/dienā']
    else:
        print('Check a name of type_price')   


    if dataframe.empty:
        pass
    elif len(dataframe.index) < 15:
        pass
    else:
        results = do_regression(dataframe, estate_type, transaction_type, region_type,rent_freq)
        return results

#define function
#function will use entered dataframe as a source and make necessary adjustments depending on transaction type (sale, rent)
# and depending on real estate type

def do_regression(dataframe, estate_type, transaction_type, region_type, rent_freq):   
    print(estate_type + transaction_type +region_type+rent_freq)
    if estate_type == "farms" or estate_type == "plots":
        dataframe = dataframe[np.abs(dataframe.Priceland-dataframe.Priceland.mean()) <= (3*dataframe.Priceland.std())]
        dataframe=dataframe[~(np.abs(dataframe.Priceland-dataframe.Priceland.mean()) > (3*dataframe.Priceland.std()))]
        
    elif estate_type == "offices" or estate_type == "flats" or estate_type == "flats2" or estate_type=="residences":
        dataframe=dataframe[np.abs(dataframe.Pricepremise-dataframe.Pricepremise.mean()) <= (3*dataframe.Pricepremise.std())]
        dataframe=dataframe[~(np.abs(dataframe.Pricepremise-dataframe.Pricepremise.mean()) > (3*dataframe.Pricepremise.std()))]
    
    correlation=dataframe.corr()
    correlation=correlation.round(4)

    #Lists
    list_riga=['B-District-riga-Āgenskalns','B-District-riga-Boldērāja','B-District-riga-Centrs','B-District-riga-Ilģuciems','B-District-riga-Imanta','B-District-riga-Jugla','B-District-riga-Ķengarags','B-District-riga-Maskavas Forštate','B-District-riga-Mežaparkse','B-District-riga-Mežciems','B-District-riga-Pļavnieki','B-District-riga-Purvciems','B-District-riga-Sarkandaugava','B-District-riga-Teika','B-District-riga-Vecmīlgrāvis','B-District-riga-Ziepniekkalns','B-District-riga-Zolitūde']
    list_house_types=['B-HOUSE_TYPE-103.','B-HOUSE_TYPE-104.','B-HOUSE_TYPE-119.','B-HOUSE_TYPE-467.','B-HOUSE_TYPE-602.','B-HOUSE_TYPE-Čehu pr.','B-HOUSE_TYPE-Hrušč.','B-HOUSE_TYPE-Jaun.','B-HOUSE_TYPE-LT proj.','B-HOUSE_TYPE-M. ģim.','B-HOUSE_TYPE-P. kara','B-HOUSE_TYPE-Priv. m.','B-HOUSE_TYPE-Renov.','B-HOUSE_TYPE-Specpr.']
    list_duration=['B-Duration-0','B-Duration-1','B-Duration-2-7','B-Duration-8-50','B-Duration-51-150']

    list_farms_0=['Land','Premise','Priceland','Pricepremise','Number of floors','Quarter']
    list_residences_0=['Land','Premise','Priceland','Pricepremise','Number of floors','Quarter']
    list_plots_0=['Land','Priceland','Quarter']
    list_offices_0=['Premise','Pricepremise','Floor','Max floor','Quarter']
    list_flats_0=['Premise','Pricepremise','Number of rooms','Quarter']

    if estate_type == 'farms': 
        list1=list_farms_0
    elif estate_type == 'residences': 
        list1=list_residences_0
    elif  estate_type == 'offices': 
        list1=list_offices_0
    elif  estate_type == 'plots': 
        list1=list_plots_0
    elif  estate_type == 'flats': 
        list1=list_flats_0
    elif  estate_type == 'flats2': 
        list1=list_flats_0+list_house_types

    list1=list1+list_duration

    if region_type=='riga':
        list1=list1+list_riga
    
    if estate_type == 'farms' or estate_type == 'residences' or estate_type == 'offices' or estate_type == 'flats' or estate_type == 'flats2':
        proportion_no_premise_data=(dataframe['Premise'].isna().sum())/dataframe['Premise'].count()
        if proportion_no_premise_data<0.01:
            print('yes', proportion_no_premise_data)
            dataframe=dataframe.dropna(subset=['Premise'])
        else:
            print('no')
            print("yy" + str(proportion_no_premise_data)+ str(dataframe['Premise'].mean()))
            dataframe['Premise']=dataframe['Premise'].fillna(dataframe['Premise'].mean())
            dataframe['Pricepremise']=dataframe['Prices']/dataframe['Premise']

    if estate_type == 'farms' or estate_type == 'residences' or estate_type == 'plots':
        proportion_no_land_data=(dataframe['Land'].isna().sum())/dataframe['Land'].count()
        if proportion_no_land_data<0.01:
            print('yes', proportion_no_land_data)
            dataframe=dataframe.dropna(subset=['Land'])
        else:
            print('no')
            print("yy" + str(proportion_no_land_data)+ str(dataframe['Land'].mean()))
            dataframe['Land']=dataframe['Land'].fillna(dataframe['Land'].mean())
            dataframe['Priceland']=dataframe['Prices']/dataframe['Land']
    
    if estate_type == 'farms' or estate_type == 'residences':
        proportion_no_floors_data=(dataframe['Number of floors'].isna().sum())/dataframe['Number of floors'].count()
        if proportion_no_floors_data<0.01:
            print('yes', proportion_no_floors_data)
            dataframe=dataframe.dropna(subset=['Number of floors'])
        else:
            print('no')
            print("yy" + str(proportion_no_floors_data)+ str(dataframe['Number of floors'].mean()))
            dataframe['Number of floors']=dataframe['Number of floors'].fillna(dataframe['Number of floors'].mean())
    
    elif estate_type == 'flats' or estate_type == 'flats2':
        proportion_no_rooms_data=(dataframe['Number of rooms'].isna().sum())/dataframe['Number of rooms'].count()
        if proportion_no_rooms_data<0.01:
            print('yes', proportion_no_rooms_data)
            dataframe=dataframe.dropna(subset=['Number of rooms'])
        else:
            print('no')
            print("yy" + str(proportion_no_rooms_data)+ str(dataframe['Number of rooms'].mean()))
            dataframe['Number of rooms']=dataframe['Number of rooms'].fillna(dataframe['Number of rooms'].mean())

    elif estate_type == 'offices':
        proportion_no_max_floor_data=(dataframe['Max floor'].isna().sum())/dataframe['Max floor'].count()
        if proportion_no_max_floor_data<0.01:
            print('yes', proportion_no_max_floor_data)
            dataframe=dataframe.dropna(subset=['Max floor'])
        else:
            print('no')
            print("yy" + str(proportion_no_max_floor_data)+ str(dataframe['Max floor'].mean()))
            dataframe['Max floor']=dataframe['Max floor'].fillna(dataframe['Max floor'].mean())

        proportion_no_floor_data=(dataframe['Floor'].isna().sum())/dataframe['Floor'].count()
        if proportion_no_floor_data<0.01:
            print('yes', proportion_no_floor_data)
            dataframe=dataframe.dropna(subset=['Floor'])
        else:
            print('no')
            print("yy" + str(proportion_no_floor_data)+ str(dataframe['Floor'].mean()))
            dataframe['Floor']=dataframe['Floor'].fillna(dataframe['Floor'].mean())
    
    #Summary
    y = dataframe['Prices']
    x = dataframe[list1]
    x = sm.add_constant(x)
    model = sm.OLS(y, x).fit()
    summary_as_html = model.summary().tables[1].as_html()
    summary=pd.read_html(summary_as_html, header=0, index_col=0)[0]
    summary=summary.rename(columns={'coef':'Value of determinant','std err':'Standard deviation','[0.025':'95% Confidence','0.975]':'interval'})

    if  transaction_type=='hand_over' and ((estate_type == "farms" and rent_freq=='per month' and (region_type == "riga-region" or region_type == "cities")) or (estate_type == "offices" and ((rent_freq=='per week' and region_type == "riga") or (rent_freq=='per day' and (region_type == "riga-region" or region_type == "cities" or region_type == "other"))))or(estate_type == "plots" and rent_freq=='per day' and (region_type == "riga-region" or region_type=='other'))):
        pass
    else:
        list1.insert(0,'Intercept')
        summary.insert(loc=0,column='Name of determinant',value=list1)

    #Creating new column "Prices adjusted"
    y_predicted=model.predict(x)
    dataframe['Prices adjusted']=y_predicted
    dataframe['Prices adjusted']=dataframe['Prices adjusted'].round(2)

    #regression scores
    rscore=model.rsquared
    score=pd.DataFrame({'Regression score': [rscore]})
    score['Regression score']=score['Regression score'].round(4)

    return dataframe, correlation, summary, score
